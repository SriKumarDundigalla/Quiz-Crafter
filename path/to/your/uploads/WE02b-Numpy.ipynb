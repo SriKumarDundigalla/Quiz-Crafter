{
 "cells": [
  {
   "cell_type": "markdown",
   "id": "d5636ead-6f7e-4cf3-a707-74266f17915d",
   "metadata": {},
   "source": [
    "# Numpy Introduction"
   ]
  },
  {
   "cell_type": "markdown",
   "id": "b453786e-c8e6-4edd-b3c0-be62faeb9f29",
   "metadata": {},
   "source": [
    "Numpy is a Python library for working with arrays. It is particularly useful for linear algebra, Fourier transform, and random number capabilities. Numpy also has a C API, which means that it is possible to write fast code in C and use it in Python through Numpy."
   ]
  },
  {
   "cell_type": "markdown",
   "id": "07de0368-388c-41e2-9636-aa4b88866268",
   "metadata": {},
   "source": [
    "## 1.0 Installing and importing numpy"
   ]
  },
  {
   "cell_type": "markdown",
   "id": "354a8628-1d9e-4090-94cd-4722bc5c117f",
   "metadata": {},
   "source": [
    "The numpy package is installed as part of the Anaconda distribution (you will not need to install it, only import it and use it)."
   ]
  },
  {
   "cell_type": "code",
   "execution_count": 65,
   "id": "f1eacff5-7956-4407-b3f4-85e47b2d922c",
   "metadata": {},
   "outputs": [],
   "source": [
    "import numpy # this is one way to import"
   ]
  },
  {
   "cell_type": "code",
   "execution_count": 66,
   "id": "57145cff-11f1-46cf-884a-b78313fd3bf7",
   "metadata": {},
   "outputs": [
    {
     "data": {
      "text/plain": [
       "array([1, 2, 3])"
      ]
     },
     "execution_count": 66,
     "metadata": {},
     "output_type": "execute_result"
    }
   ],
   "source": [
    "numpy.asarray([1,2,3])"
   ]
  },
  {
   "cell_type": "code",
   "execution_count": 67,
   "id": "0c48e8a3-5a88-49d2-89a8-468b3e495f07",
   "metadata": {},
   "outputs": [
    {
     "data": {
      "text/plain": [
       "array([2, 3, 4])"
      ]
     },
     "execution_count": 67,
     "metadata": {},
     "output_type": "execute_result"
    }
   ],
   "source": [
    "# but, you can also rename a package (to a shorter name) when importing\n",
    "\n",
    "import numpy as np # this is a very common way to import numpy\n",
    "\n",
    "np.asarray([2,3,4])"
   ]
  },
  {
   "cell_type": "markdown",
   "id": "51c17952-c6d8-4973-b2c2-570ed143757a",
   "metadata": {},
   "source": [
    "## 2. Numpy basics"
   ]
  },
  {
   "cell_type": "markdown",
   "id": "3e681273-9a91-4531-8ddd-3e0d99502dca",
   "metadata": {},
   "source": [
    "### 2.1 Lists versus numpy array"
   ]
  },
  {
   "cell_type": "code",
   "execution_count": 68,
   "id": "c8e3ff74-bcfc-44bc-9d49-488a13354a72",
   "metadata": {},
   "outputs": [],
   "source": [
    "# Here are some regular lists...\n",
    "height = [1.75, 1.34, 1.56, 1.54, 1.48]\n",
    "weight = [65.4, 56.7, 73.8, 65.4, 49.8]"
   ]
  },
  {
   "cell_type": "markdown",
   "id": "662c912c-2359-4c84-930f-c77c868d5a58",
   "metadata": {},
   "source": [
    "Numpy is a package that is commonly used in data science. It allows you to easily conduct vector/matrix calculations; and in general, conduct operations easily (and fast) over large arrays of data. "
   ]
  },
  {
   "cell_type": "code",
   "execution_count": 69,
   "id": "0f7338c6-8583-456b-9e02-e24257391236",
   "metadata": {},
   "outputs": [],
   "source": [
    "height_np = np.asarray(height)\n",
    "weight_np = np.asarray(weight)"
   ]
  },
  {
   "cell_type": "code",
   "execution_count": 70,
   "id": "7fa75d39-08da-4374-9252-3d43271a66f4",
   "metadata": {},
   "outputs": [
    {
     "name": "stdout",
     "output_type": "stream",
     "text": [
      "[21.35510204 31.57718868 30.32544379 27.57631978 22.73557341]\n"
     ]
    }
   ],
   "source": [
    "bmi = weight_np / height_np ** 2\n",
    "print(bmi)"
   ]
  },
  {
   "cell_type": "code",
   "execution_count": 71,
   "id": "6b709375-a8a4-4bd3-8492-acf77eab8aea",
   "metadata": {},
   "outputs": [],
   "source": [
    "# notice that we can't do a calculation of bmi as easily if you only had the lists\n",
    "# note that the code in this cell creates and error (to demonstrate now lists and numpy differ)\n",
    "#bmi = weight / height ** 2\n",
    "#print(bmi)"
   ]
  },
  {
   "cell_type": "markdown",
   "id": "22611ec8-d722-4e4f-a5b0-f8f54544763c",
   "metadata": {},
   "source": [
    "### 2.2 Operations on numpy arrays"
   ]
  },
  {
   "cell_type": "code",
   "execution_count": 72,
   "id": "116e3a8f-c88b-4e92-9a72-eadae0242104",
   "metadata": {},
   "outputs": [],
   "source": [
    "np_ra1 = np.array([1,2,3,4])"
   ]
  },
  {
   "cell_type": "code",
   "execution_count": 73,
   "id": "d6fa7b16-5fba-4f3d-a042-8e57f3e37a77",
   "metadata": {},
   "outputs": [
    {
     "data": {
      "text/plain": [
       "array([2, 4, 6, 8])"
      ]
     },
     "execution_count": 73,
     "metadata": {},
     "output_type": "execute_result"
    }
   ],
   "source": [
    "np_ra1 * 2 # multiple all elements of the array by 2"
   ]
  },
  {
   "cell_type": "code",
   "execution_count": 74,
   "id": "2824c2a1-ac1e-4b7f-80b1-5312e0fb32b8",
   "metadata": {},
   "outputs": [
    {
     "data": {
      "text/plain": [
       "array([ 1,  4,  9, 16])"
      ]
     },
     "execution_count": 74,
     "metadata": {},
     "output_type": "execute_result"
    }
   ],
   "source": [
    "np_ra1 ** 2 # take easy element in the array and square it"
   ]
  },
  {
   "cell_type": "code",
   "execution_count": 75,
   "id": "d0d7eb5d-e528-443d-896f-2486cd6b7cd5",
   "metadata": {},
   "outputs": [],
   "source": [
    "np_ra2 = np.array([3,4,5, 8])"
   ]
  },
  {
   "cell_type": "code",
   "execution_count": 76,
   "id": "8a6c36a0-9548-48c9-a614-fb93166d4fff",
   "metadata": {},
   "outputs": [
    {
     "data": {
      "text/plain": [
       "array([ 3,  8, 15, 32])"
      ]
     },
     "execution_count": 76,
     "metadata": {},
     "output_type": "execute_result"
    }
   ],
   "source": [
    "np_ra1 * np_ra2 # we can even multiple (and subtract, add, or divide) two lists"
   ]
  },
  {
   "cell_type": "code",
   "execution_count": 77,
   "id": "4b8a80fa-f16a-4f37-b70a-1cdef5f0d9fb",
   "metadata": {},
   "outputs": [
    {
     "data": {
      "text/plain": [
       "array([0.33333333, 0.5       , 0.6       , 0.5       ])"
      ]
     },
     "execution_count": 77,
     "metadata": {},
     "output_type": "execute_result"
    }
   ],
   "source": [
    "np_ra1 / np_ra2 "
   ]
  },
  {
   "cell_type": "code",
   "execution_count": 78,
   "id": "58e47419-64ff-4732-a7d4-5a0685849da7",
   "metadata": {},
   "outputs": [
    {
     "data": {
      "text/plain": [
       "array([ 4,  6,  8, 12])"
      ]
     },
     "execution_count": 78,
     "metadata": {},
     "output_type": "execute_result"
    }
   ],
   "source": [
    "np_ra1 + np_ra2 "
   ]
  },
  {
   "cell_type": "code",
   "execution_count": 79,
   "id": "f5dc4297-b101-4c22-a079-88b30465dea3",
   "metadata": {},
   "outputs": [
    {
     "data": {
      "text/plain": [
       "array([-2, -2, -2, -4])"
      ]
     },
     "execution_count": 79,
     "metadata": {},
     "output_type": "execute_result"
    }
   ],
   "source": [
    "np_ra1 - np_ra2 "
   ]
  },
  {
   "cell_type": "markdown",
   "id": "cefe9768-d7ce-46c3-82c1-d13252817a55",
   "metadata": {},
   "source": [
    "### 2.3 Numpy arrays only contain one type"
   ]
  },
  {
   "cell_type": "code",
   "execution_count": 80,
   "id": "8e143bec-6482-4a6b-ab86-6b0f907439df",
   "metadata": {},
   "outputs": [
    {
     "data": {
      "text/plain": [
       "array(['1.0', 'is', 'True'], dtype='<U32')"
      ]
     },
     "execution_count": 80,
     "metadata": {},
     "output_type": "execute_result"
    }
   ],
   "source": [
    "np.array([1.0, \"is\", True]) # np will turn all of these into a string"
   ]
  },
  {
   "cell_type": "code",
   "execution_count": 81,
   "id": "b8448c12-7f76-486c-a687-470b15fa7d53",
   "metadata": {},
   "outputs": [
    {
     "data": {
      "text/plain": [
       "array([1. , 2. , 3.9])"
      ]
     },
     "execution_count": 81,
     "metadata": {},
     "output_type": "execute_result"
    }
   ],
   "source": [
    "np.array([1.0, 2, 3.9]) # these will all become float"
   ]
  },
  {
   "cell_type": "markdown",
   "id": "96522e20-9eb9-4e6e-9632-48e46842795e",
   "metadata": {},
   "source": [
    "Notice that Numpy will choose the smallest datatype that can hold all the content. "
   ]
  },
  {
   "cell_type": "markdown",
   "id": "1f2ebcd8-3c77-42e2-9ff1-cdd60374e083",
   "metadata": {},
   "source": [
    "### 2.4 NumPy Subsetting"
   ]
  },
  {
   "cell_type": "code",
   "execution_count": 82,
   "id": "f51ca1db-2f72-40f6-b965-3b225cf830a5",
   "metadata": {},
   "outputs": [
    {
     "data": {
      "text/plain": [
       "array([21.35510204, 31.57718868, 30.32544379, 27.57631978, 22.73557341])"
      ]
     },
     "execution_count": 82,
     "metadata": {},
     "output_type": "execute_result"
    }
   ],
   "source": [
    "bmi"
   ]
  },
  {
   "cell_type": "code",
   "execution_count": 83,
   "id": "4809ec43-db37-42db-9ab7-f78d147bc294",
   "metadata": {},
   "outputs": [
    {
     "data": {
      "text/plain": [
       "array([False,  True,  True,  True, False])"
      ]
     },
     "execution_count": 83,
     "metadata": {},
     "output_type": "execute_result"
    }
   ],
   "source": [
    "bmi > 23"
   ]
  },
  {
   "cell_type": "code",
   "execution_count": 84,
   "id": "6d00a6a6-909b-4523-8c01-a222d21d6d70",
   "metadata": {
    "tags": []
   },
   "outputs": [
    {
     "data": {
      "text/plain": [
       "array([31.57718868, 30.32544379, 27.57631978])"
      ]
     },
     "execution_count": 84,
     "metadata": {},
     "output_type": "execute_result"
    }
   ],
   "source": [
    "bmi[bmi > 23]"
   ]
  },
  {
   "cell_type": "markdown",
   "id": "b94a1304-4c01-47b7-9826-3bf3a4490d76",
   "metadata": {},
   "source": [
    "## 3.0 Multidimensional Numpy arrays"
   ]
  },
  {
   "cell_type": "code",
   "execution_count": 85,
   "id": "ce76e26e-d386-4b8e-9888-4edb4d9f94de",
   "metadata": {},
   "outputs": [
    {
     "data": {
      "text/plain": [
       "array([[ 1.75,  1.34,  1.56,  1.54,  1.48],\n",
       "       [65.4 , 56.7 , 73.8 , 65.4 , 49.8 ]])"
      ]
     },
     "execution_count": 85,
     "metadata": {},
     "output_type": "execute_result"
    }
   ],
   "source": [
    "np_2d = np.array([np.asarray(height), np.asarray(weight)])\n",
    "np_2d"
   ]
  },
  {
   "cell_type": "code",
   "execution_count": 86,
   "id": "a18ec026-018f-4261-b3aa-35d6ef21ce05",
   "metadata": {},
   "outputs": [
    {
     "data": {
      "text/plain": [
       "(2, 5)"
      ]
     },
     "execution_count": 86,
     "metadata": {},
     "output_type": "execute_result"
    }
   ],
   "source": [
    "np_2d.shape  # NOTICE that this isn't a method, rather it's an attribut of the np_2d object"
   ]
  },
  {
   "cell_type": "code",
   "execution_count": 87,
   "id": "9388a82a-a2cc-4934-9cdd-97e63b28ba94",
   "metadata": {},
   "outputs": [
    {
     "data": {
      "text/plain": [
       "1.56"
      ]
     },
     "execution_count": 87,
     "metadata": {},
     "output_type": "execute_result"
    }
   ],
   "source": [
    "# selecting first row, 3rd element (this is the same as lists!)\n",
    "np_2d[0][2]"
   ]
  },
  {
   "cell_type": "code",
   "execution_count": 88,
   "id": "7a6c6d33-5481-468b-b856-b09ffc4f206b",
   "metadata": {},
   "outputs": [
    {
     "data": {
      "text/plain": [
       "1.56"
      ]
     },
     "execution_count": 88,
     "metadata": {},
     "output_type": "execute_result"
    }
   ],
   "source": [
    "# BUT, with numpy arrays we can also do...\n",
    "np_2d[0,2] # once you get used to this approach, it's more intiutive and easier that the list approach"
   ]
  },
  {
   "cell_type": "code",
   "execution_count": 89,
   "id": "38d7d59a-d8ae-4f13-96a3-9fcf783057b3",
   "metadata": {},
   "outputs": [
    {
     "data": {
      "text/plain": [
       "array([[ 1.34,  1.56],\n",
       "       [56.7 , 73.8 ]])"
      ]
     },
     "execution_count": 89,
     "metadata": {},
     "output_type": "execute_result"
    }
   ],
   "source": [
    "np_2d[:,1:3] # select the columns at index 1 and 2 for all rows"
   ]
  },
  {
   "cell_type": "code",
   "execution_count": 90,
   "id": "4f9862cb-8a92-485a-867a-277a39e618e9",
   "metadata": {},
   "outputs": [
    {
     "data": {
      "text/plain": [
       "array([65.4, 56.7, 73.8, 65.4, 49.8])"
      ]
     },
     "execution_count": 90,
     "metadata": {},
     "output_type": "execute_result"
    }
   ],
   "source": [
    "np_2d[1,:] # select all the weights"
   ]
  },
  {
   "cell_type": "markdown",
   "id": "6e2e32bc-d094-4d05-b7c2-3192d038fd5e",
   "metadata": {},
   "source": [
    "### 5.0 Numpy Basic Stats"
   ]
  },
  {
   "cell_type": "code",
   "execution_count": 91,
   "id": "db974974-4a95-4b6e-aa14-3ac735c0c35c",
   "metadata": {},
   "outputs": [],
   "source": [
    "np_height = np.array(height)\n",
    "np_weight = np.array(weight)"
   ]
  },
  {
   "cell_type": "code",
   "execution_count": 92,
   "id": "e1395ccc-bab5-4c86-96c5-28e0e6be0ee5",
   "metadata": {},
   "outputs": [
    {
     "data": {
      "text/plain": [
       "1.534"
      ]
     },
     "execution_count": 92,
     "metadata": {},
     "output_type": "execute_result"
    }
   ],
   "source": [
    "np_height.mean()"
   ]
  },
  {
   "cell_type": "code",
   "execution_count": 93,
   "id": "b4ddd642-ed99-4e2d-87e9-248baec41fb1",
   "metadata": {},
   "outputs": [
    {
     "data": {
      "text/plain": [
       "0.13260467563400619"
      ]
     },
     "execution_count": 93,
     "metadata": {},
     "output_type": "execute_result"
    }
   ],
   "source": [
    "np_height.std()"
   ]
  },
  {
   "cell_type": "code",
   "execution_count": 94,
   "id": "f000da6b-d3c8-437a-854c-750862b1670b",
   "metadata": {},
   "outputs": [],
   "source": [
    "# np_height.median() # note that there isn't a median method... "
   ]
  },
  {
   "cell_type": "markdown",
   "id": "37c05741-5463-4927-8349-c19dbfee63cc",
   "metadata": {},
   "source": [
    "... using np functions (not methods)...."
   ]
  },
  {
   "cell_type": "code",
   "execution_count": 95,
   "id": "1ff12179-49c2-43d2-a39a-5610a608d5f5",
   "metadata": {},
   "outputs": [
    {
     "data": {
      "text/plain": [
       "1.54"
      ]
     },
     "execution_count": 95,
     "metadata": {},
     "output_type": "execute_result"
    }
   ],
   "source": [
    "np.median(np_height)"
   ]
  },
  {
   "cell_type": "code",
   "execution_count": 96,
   "id": "8f9bb4c8-b807-4e8e-bd9e-3c6a412c0547",
   "metadata": {},
   "outputs": [
    {
     "data": {
      "text/plain": [
       "1.534"
      ]
     },
     "execution_count": 96,
     "metadata": {},
     "output_type": "execute_result"
    }
   ],
   "source": [
    "np.mean(np_height)"
   ]
  },
  {
   "cell_type": "code",
   "execution_count": 97,
   "id": "963d0950-20f2-4f49-8c07-85a073893ac1",
   "metadata": {},
   "outputs": [
    {
     "data": {
      "text/plain": [
       "array([[1.       , 0.5034277],\n",
       "       [0.5034277, 1.       ]])"
      ]
     },
     "execution_count": 97,
     "metadata": {},
     "output_type": "execute_result"
    }
   ],
   "source": [
    "np.corrcoef(np_height, np_weight)"
   ]
  },
  {
   "cell_type": "code",
   "execution_count": 98,
   "id": "1928d465-a98a-4f10-a6eb-48b5f5c2e333",
   "metadata": {},
   "outputs": [
    {
     "data": {
      "text/plain": [
       "0.13260467563400619"
      ]
     },
     "execution_count": 98,
     "metadata": {},
     "output_type": "execute_result"
    }
   ],
   "source": [
    "np.std(np_height)"
   ]
  },
  {
   "cell_type": "code",
   "execution_count": 99,
   "id": "9fd9bd1d-b880-46e6-8f48-cca306b2cfbe",
   "metadata": {},
   "outputs": [
    {
     "data": {
      "text/plain": [
       "0.017583999999999995"
      ]
     },
     "execution_count": 99,
     "metadata": {},
     "output_type": "execute_result"
    }
   ],
   "source": [
    "np.var(np_height)"
   ]
  },
  {
   "cell_type": "code",
   "execution_count": 100,
   "id": "852fe190-a872-4886-94af-c7589d734fe7",
   "metadata": {},
   "outputs": [
    {
     "data": {
      "text/plain": [
       "7.67"
      ]
     },
     "execution_count": 100,
     "metadata": {},
     "output_type": "execute_result"
    }
   ],
   "source": [
    "np.sum(np_height)"
   ]
  },
  {
   "cell_type": "code",
   "execution_count": 101,
   "id": "fa2573a1-bbc0-419c-aa5c-556f69f826a4",
   "metadata": {},
   "outputs": [
    {
     "data": {
      "text/plain": [
       "array([['1.94', '57.8', 'green'],\n",
       "       ['1.66', '41.26', 'green'],\n",
       "       ['1.58', '75.54', 'brown'],\n",
       "       ['1.7', '50.07', 'green'],\n",
       "       ['1.59', '82.32', 'black'],\n",
       "       ['1.73', '54.82', 'brown'],\n",
       "       ['1.39', '27.71', 'blue'],\n",
       "       ['2.09', '65.88', 'black'],\n",
       "       ['1.51', '50.19', 'black'],\n",
       "       ['2.15', '39.73', 'green'],\n",
       "       ['1.53', '70.51', 'brown'],\n",
       "       ['1.53', '52.53', 'blue'],\n",
       "       ['1.73', '73.46', 'green'],\n",
       "       ['1.62', '57.94', 'blue'],\n",
       "       ['1.84', '61.54', 'black'],\n",
       "       ['1.4', '62.97', 'brown'],\n",
       "       ['1.61', '92.94', 'blue'],\n",
       "       ['1.56', '26.64', 'blue'],\n",
       "       ['1.73', '61.98', 'blue'],\n",
       "       ['1.5', '53.97', 'brown']], dtype='<U32')"
      ]
     },
     "execution_count": 101,
     "metadata": {},
     "output_type": "execute_result"
    }
   ],
   "source": [
    "# here, we will generate 20 weights and height from randomly sampling a normal distribution\n",
    "np_height = np.round(np.random.normal(1.75, 0.2, 20), 2)\n",
    "np_weight = np.round(np.random.normal(60.32, 15, 20), 2)\n",
    "np_eye_color = np.random.choice([\"blue\", \"green\", \"brown\", \"black\"], 20)\n",
    "np_people = np.column_stack((np_height, np_weight, np_eye_color))\n",
    "np_people"
   ]
  },
  {
   "cell_type": "markdown",
   "id": "2cb01a19-6eda-48db-b272-80506a0e97c7",
   "metadata": {},
   "source": [
    "## 4.0 Comparison operators and logical operations on numpy arrays"
   ]
  },
  {
   "cell_type": "markdown",
   "id": "c122f1db",
   "metadata": {},
   "source": [
    "### 4.1 Comparison Operators"
   ]
  },
  {
   "cell_type": "code",
   "execution_count": 103,
   "id": "e58fb25a-ded6-42ed-b339-c84c4ce29f6a",
   "metadata": {},
   "outputs": [
    {
     "data": {
      "text/plain": [
       "array([False,  True,  True,  True, False])"
      ]
     },
     "execution_count": 103,
     "metadata": {},
     "output_type": "execute_result"
    }
   ],
   "source": [
    "bmi > 25"
   ]
  },
  {
   "cell_type": "code",
   "execution_count": 104,
   "id": "7107736f-08eb-4611-8cf5-2833a3d7747c",
   "metadata": {},
   "outputs": [
    {
     "data": {
      "text/plain": [
       "array([31.57718868, 30.32544379, 27.57631978])"
      ]
     },
     "execution_count": 104,
     "metadata": {},
     "output_type": "execute_result"
    }
   ],
   "source": [
    "bmi[bmi > 25]"
   ]
  },
  {
   "cell_type": "code",
   "execution_count": 124,
   "id": "91c93b6e-3021-40bb-8838-64a804275177",
   "metadata": {},
   "outputs": [],
   "source": [
    "# this will cause an error...\n",
    "# bmi > 21 and bmi < 25\n",
    "# you will see how we can do this in the next section"
   ]
  },
  {
   "cell_type": "markdown",
   "id": "6a2ced33",
   "metadata": {},
   "source": [
    "### 4.2 Logical Operations"
   ]
  },
  {
   "cell_type": "markdown",
   "id": "6dd471e9",
   "metadata": {},
   "source": [
    "We can't directly use the logical operators on numpy arrays, but numpy had a few functions that can be used instead\n",
    "\n",
    "- `np.logical_and()`\n",
    "- `np.logical_or()`\n",
    "- `np.logical_not()`\n",
    "- `np.logical_xor()`"
   ]
  },
  {
   "cell_type": "code",
   "execution_count": 106,
   "id": "11ee8b92",
   "metadata": {},
   "outputs": [
    {
     "data": {
      "text/plain": [
       "array([ True, False, False, False,  True])"
      ]
     },
     "execution_count": 106,
     "metadata": {},
     "output_type": "execute_result"
    }
   ],
   "source": [
    "np.logical_and(bmi > 21, bmi < 25)"
   ]
  },
  {
   "cell_type": "code",
   "execution_count": 107,
   "id": "f340caa8",
   "metadata": {},
   "outputs": [
    {
     "name": "stdout",
     "output_type": "stream",
     "text": [
      "[ True False False False]\n",
      "[ True  True  True False]\n",
      "[False False  True  True]\n",
      "[False  True  True False]\n"
     ]
    }
   ],
   "source": [
    "a = np.array([True, True, False, False])\n",
    "b = np.array([True, False, True, False])\n",
    "print(np.logical_and(a, b))\n",
    "print(np.logical_or(a, b))\n",
    "print(np.logical_not(a))\n",
    "print(np.logical_xor(a, b))"
   ]
  },
  {
   "cell_type": "markdown",
   "id": "c67f29a3-faf1-4693-ae6b-ea3fb6767d5d",
   "metadata": {},
   "source": [
    "## 5.0 Looping over NumPy array"
   ]
  },
  {
   "cell_type": "code",
   "execution_count": 108,
   "id": "ab3ed18a-ef87-4b45-811c-84c0bf69f715",
   "metadata": {},
   "outputs": [],
   "source": [
    "heights = np.array([1.75, 1.34, 1.56, 1.54, 1.48])\n",
    "weights = np.array([65.4, 56.7, 73.8, 65.4, 49.8])"
   ]
  },
  {
   "cell_type": "code",
   "execution_count": 109,
   "id": "a29d836f-83ac-4016-873b-c16aa16f68d7",
   "metadata": {},
   "outputs": [
    {
     "name": "stdout",
     "output_type": "stream",
     "text": [
      "1.75\n",
      "1.34\n",
      "1.56\n",
      "1.54\n",
      "1.48\n"
     ]
    }
   ],
   "source": [
    "for height in heights:\n",
    "    print(height)"
   ]
  },
  {
   "cell_type": "code",
   "execution_count": 110,
   "id": "e3dbd836-831f-4e7a-8d5e-e6cc414c9602",
   "metadata": {},
   "outputs": [
    {
     "name": "stdout",
     "output_type": "stream",
     "text": [
      "[1.75 1.34 1.56 1.54 1.48]\n",
      "[65.4 56.7 73.8 65.4 49.8]\n"
     ]
    }
   ],
   "source": [
    "meas = np.array([heights, weights])\n",
    "for val in meas:\n",
    "    print(val)"
   ]
  },
  {
   "cell_type": "code",
   "execution_count": 111,
   "id": "312f3d87-bd34-4527-9714-52ab8ffceed1",
   "metadata": {},
   "outputs": [
    {
     "name": "stdout",
     "output_type": "stream",
     "text": [
      "1.75\n",
      "1.34\n",
      "1.56\n",
      "1.54\n",
      "1.48\n",
      "65.4\n",
      "56.7\n",
      "73.8\n",
      "65.4\n",
      "49.8\n"
     ]
    }
   ],
   "source": [
    "meas = np.array([heights, weights])\n",
    "for val in np.nditer(meas):\n",
    "    print(val)"
   ]
  },
  {
   "cell_type": "markdown",
   "id": "9989a39f",
   "metadata": {},
   "source": [
    "## 6.0 List comprehensions with numpy"
   ]
  },
  {
   "cell_type": "markdown",
   "id": "903e7aeb",
   "metadata": {},
   "source": [
    "Most often, the most elegent way to handle loop like functionality on numpy arrays is to use a list comprehension."
   ]
  },
  {
   "cell_type": "markdown",
   "id": "14f07c57",
   "metadata": {},
   "source": [
    "In the cell below we create a numpy array called n_ra that contains 10 random numbers between 0 and 1. "
   ]
  },
  {
   "cell_type": "code",
   "execution_count": 112,
   "id": "87a12e39",
   "metadata": {},
   "outputs": [
    {
     "data": {
      "text/plain": [
       "array([-0.11832915,  1.8379827 ,  0.4847034 ,  1.58030942, -1.21596307,\n",
       "        0.41139   , -1.03111275, -0.73439928,  0.72803743, -0.54199408])"
      ]
     },
     "execution_count": 112,
     "metadata": {},
     "output_type": "execute_result"
    }
   ],
   "source": [
    "n_ra = np.array([x for x in np.random.normal(0,1,10)])\n",
    "\n",
    "n_ra"
   ]
  },
  {
   "cell_type": "markdown",
   "id": "4adbde01",
   "metadata": {},
   "source": [
    "Often, we do not need this many decimal places. In such cases, we can incorporate the round function."
   ]
  },
  {
   "cell_type": "code",
   "execution_count": 113,
   "id": "e9796e07",
   "metadata": {},
   "outputs": [
    {
     "data": {
      "text/plain": [
       "array([ 0.609,  0.915,  1.509, -1.857,  0.051, -0.743,  0.563, -0.04 ,\n",
       "       -0.658,  0.455])"
      ]
     },
     "execution_count": 113,
     "metadata": {},
     "output_type": "execute_result"
    }
   ],
   "source": [
    "n_ra = np.array([x for x in np.random.normal(0,1,10).round(3)])\n",
    "\n",
    "n_ra"
   ]
  },
  {
   "cell_type": "markdown",
   "id": "9ebc0285",
   "metadata": {},
   "source": [
    "In the cell below, we create a numpy array called n_ra that selects all values from the original n_ra that are greater than 0. It then rounds these reusults to 2 decimal places. "
   ]
  },
  {
   "cell_type": "code",
   "execution_count": 114,
   "id": "d8ec6508",
   "metadata": {},
   "outputs": [
    {
     "data": {
      "text/plain": [
       "array([0.37, 0.84, 2.28, 0.  , 0.32, 0.21])"
      ]
     },
     "execution_count": 114,
     "metadata": {},
     "output_type": "execute_result"
    }
   ],
   "source": [
    "\n",
    "n_ra = np.array([x**2 for x in n_ra if x > 0]).round(2)\n",
    "\n",
    "n_ra"
   ]
  },
  {
   "cell_type": "markdown",
   "id": "2cb01a19-6eda-48db-b272-80506a0e97c7",
   "metadata": {},
   "source": [
    "## 7.0 Arithmetic operations on numpy arrays"
   ]
  },
  {
   "cell_type": "markdown",
   "id": "9ddbcd71",
   "metadata": {},
   "source": [
    "Let's create two numpy arrays, one called `height` and one called `width`."
   ]
  },
  {
   "cell_type": "code",
   "execution_count": 115,
   "id": "6a95ce07-6373-4cc6-a52c-dc050513bd96",
   "metadata": {},
   "outputs": [],
   "source": [
    "height = np.array([1.75, 1.34, 1.56, 1.54, 1.48])\n",
    "width = np.array([65.4, 56.7, 73.8, 65.4, 49.8])"
   ]
  },
  {
   "cell_type": "markdown",
   "id": "81a65953",
   "metadata": {},
   "source": [
    "We could calculate an array of area's by using the following vector operations."
   ]
  },
  {
   "cell_type": "code",
   "execution_count": 116,
   "id": "075a72f5",
   "metadata": {},
   "outputs": [
    {
     "data": {
      "text/plain": [
       "array([114.45 ,  75.978, 115.128, 100.716,  73.704])"
      ]
     },
     "execution_count": 116,
     "metadata": {},
     "output_type": "execute_result"
    }
   ],
   "source": [
    "area = height * width\n",
    "\n",
    "area\n"
   ]
  },
  {
   "cell_type": "markdown",
   "id": "4d044bfd",
   "metadata": {},
   "source": [
    "In the following cells, we will see that numpy supports all the common arithmetic operators (+, -, *, /, **, etc.) and that they are applied element-wise to arrays."
   ]
  },
  {
   "cell_type": "code",
   "execution_count": 117,
   "id": "b4472d13",
   "metadata": {},
   "outputs": [],
   "source": [
    "a = np.array([1,2,3])\n",
    "b = np.array([4,5,6])"
   ]
  },
  {
   "cell_type": "code",
   "execution_count": 118,
   "id": "3f996478",
   "metadata": {},
   "outputs": [
    {
     "data": {
      "text/plain": [
       "array([-3, -3, -3])"
      ]
     },
     "execution_count": 118,
     "metadata": {},
     "output_type": "execute_result"
    }
   ],
   "source": [
    "# subtract two numpy arrays\n",
    "a - b"
   ]
  },
  {
   "cell_type": "code",
   "execution_count": 119,
   "id": "cbc9f85f",
   "metadata": {},
   "outputs": [
    {
     "data": {
      "text/plain": [
       "array([ 4, 10, 18])"
      ]
     },
     "execution_count": 119,
     "metadata": {},
     "output_type": "execute_result"
    }
   ],
   "source": [
    "# multiple two numpy arrays\n",
    "a * b\n"
   ]
  },
  {
   "cell_type": "code",
   "execution_count": 120,
   "id": "8933632c",
   "metadata": {},
   "outputs": [
    {
     "data": {
      "text/plain": [
       "array([0.25, 0.4 , 0.5 ])"
      ]
     },
     "execution_count": 120,
     "metadata": {},
     "output_type": "execute_result"
    }
   ],
   "source": [
    "# divide two numpy arrays\n",
    "a / b"
   ]
  },
  {
   "cell_type": "code",
   "execution_count": 121,
   "id": "8bf66ecd",
   "metadata": {},
   "outputs": [
    {
     "data": {
      "text/plain": [
       "array([1, 2, 3])"
      ]
     },
     "execution_count": 121,
     "metadata": {},
     "output_type": "execute_result"
    }
   ],
   "source": [
    "# Remainder of two numpy arrays\n",
    "\n",
    "a % b"
   ]
  },
  {
   "cell_type": "code",
   "execution_count": 122,
   "id": "f386a96c",
   "metadata": {},
   "outputs": [
    {
     "data": {
      "text/plain": [
       "array([0, 0, 0])"
      ]
     },
     "execution_count": 122,
     "metadata": {},
     "output_type": "execute_result"
    }
   ],
   "source": [
    "# Integer division of numpy arrays\n",
    "a // b"
   ]
  },
  {
   "cell_type": "code",
   "execution_count": 123,
   "id": "2ea295d5",
   "metadata": {},
   "outputs": [
    {
     "data": {
      "text/plain": [
       "array([  4,  25, 216])"
      ]
     },
     "execution_count": 123,
     "metadata": {},
     "output_type": "execute_result"
    }
   ],
   "source": [
    "# Exponentiation of numpy arrays\n",
    "b** a"
   ]
  }
 ],
 "metadata": {
  "kernelspec": {
   "display_name": "Python 3.9.13 ('base')",
   "language": "python",
   "name": "python3"
  },
  "language_info": {
   "codemirror_mode": {
    "name": "ipython",
    "version": 3
   },
   "file_extension": ".py",
   "mimetype": "text/x-python",
   "name": "python",
   "nbconvert_exporter": "python",
   "pygments_lexer": "ipython3",
   "version": "3.11.7"
  },
  "vscode": {
   "interpreter": {
    "hash": "b056086e24cb5602cbcb82122035cd3d6ee2ccbf5df29c16e348c108b0f83be3"
   }
  }
 },
 "nbformat": 4,
 "nbformat_minor": 5
}
